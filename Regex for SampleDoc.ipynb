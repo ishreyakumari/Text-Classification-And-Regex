{
 "cells": [
  {
   "cell_type": "code",
   "execution_count": 3,
   "metadata": {},
   "outputs": [],
   "source": [
    "import PyPDF2 as pdf\n",
    "import regex as re\n",
    "pdf_file = open(\"SampleDocForInterns.pdf\",\"rb\")\n",
    "pdf_data = pdf.PdfFileReader(pdf_file)\n",
    "number_of_pages = pdf_data.getNumPages()"
   ]
  },
  {
   "cell_type": "code",
   "execution_count": 6,
   "metadata": {},
   "outputs": [
    {
     "name": "stdout",
     "output_type": "stream",
     "text": [
      "The seam annealed area shall be cooled \n",
      "at an appropriate rate to produce a refined grain microstructure (grain size \n",
      "8 or finer).\n",
      "*******************************************************************************************************\n",
      "The reverse bend test shall be carried out with \n",
      "a mandrel, whose radius (R), or width (A) shall be calculated for \n",
      "any combination of diameter, wall thickness and grade with the\n",
      " formula, referred to in Figure 9 of API 5L, except the peaking \n",
      "factor shall be at 1.4.\n"
     ]
    }
   ],
   "source": [
    "# Question 1 and 2\n",
    "for i in range(number_of_pages):\n",
    "    page_number=pdf_data.getPage(i)\n",
    "    page_content = page_number.extractText()\n",
    "    sentence =re.search(\"The seam(.+\\s*)+iner\\)\\.\",page_content)\n",
    "    sentence2 =re.search(\"The(.+\\s*) carried(.+\\s*)+4\\.\",page_content)\n",
    "    if sentence is not None:\n",
    "        print(sentence.group())\n",
    "        print(\"*******************************************************************************************************\")\n",
    "    if sentence2 is not None:\n",
    "        print(sentence2.group())"
   ]
  },
  {
   "cell_type": "code",
   "execution_count": 7,
   "metadata": {},
   "outputs": [
    {
     "name": "stdout",
     "output_type": "stream",
     "text": [
      "DWT test temperature \n",
      "shall be +\n",
      "14¡F (\n",
      "-10¡C)\n",
      "*******************************************************************************************************\n",
      "the DWT test temperature shall be \n",
      "at \n",
      "0¡F (\n",
      "-18¡C)\n",
      "*******************************************************************************************************\n",
      "Straightness (full length)\n",
      " 1 in every \n",
      "20 pipe\n",
      " every 4 hr\n",
      " 0.15% pipe length\n",
      "*******************************************************************************************************\n",
      "100% SMYS\n",
      "5% SMYS\n",
      "95% SMYS\n",
      "100% SMYS\n",
      "110% SMYS\n"
     ]
    }
   ],
   "source": [
    "# Question 3,4 and 5\n",
    "for i in range(number_of_pages):\n",
    "    page_number=pdf_data.getPage(i)\n",
    "    page_content = page_number.extractText()\n",
    "    word1 =re.finditer(\"(\\d+)% SMYS\",page_content)\n",
    "    for wo in word1:\n",
    "        i=wo.start()\n",
    "        j=wo.end()\n",
    "        print(page_content[i:j])\n",
    "    word2 =re.search(\"DWT test temperature(.+\\s*)+C\\)\",page_content)\n",
    "    if word2 is not None:\n",
    "        wo=word2.group().split(\".\")\n",
    "        for s in wo:\n",
    "            print(s.strip( \"For above ground pipes, \"))\n",
    "            print(\"*******************************************************************************************************\")\n",
    "    word3 =re.search(\"Straightness \\(full (.+\\s*)+length\",page_content)\n",
    "    if word3 is not None:\n",
    "        print(word3.group())\n",
    "        print(\"*******************************************************************************************************\")"
   ]
  }
 ],
 "metadata": {
  "kernelspec": {
   "display_name": "Python 3",
   "language": "python",
   "name": "python3"
  },
  "language_info": {
   "codemirror_mode": {
    "name": "ipython",
    "version": 3
   },
   "file_extension": ".py",
   "mimetype": "text/x-python",
   "name": "python",
   "nbconvert_exporter": "python",
   "pygments_lexer": "ipython3",
   "version": "3.8.3"
  }
 },
 "nbformat": 4,
 "nbformat_minor": 4
}
