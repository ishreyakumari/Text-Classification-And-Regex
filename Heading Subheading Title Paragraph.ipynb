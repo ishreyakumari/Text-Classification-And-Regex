{
 "cells": [
  {
   "cell_type": "code",
   "execution_count": null,
   "metadata": {},
   "outputs": [],
   "source": [
    "import fitz\n",
    "fitz = fitz.open('pdf name')"
   ]
  },
  {
   "cell_type": "code",
   "execution_count": null,
   "metadata": {},
   "outputs": [],
   "source": [
    "def font_text(doc):\n",
    "    for page in doc:\n",
    "        blocks = page.getText(\"dict\")[\"blocks\"]\n",
    "        for b in blocks:\n",
    "            if(\"lines\" in b.keys()):\n",
    "                for i in b[\"lines\"]:\n",
    "                    print(i[\"spans\"][0][\"text\"])"
   ]
  },
  {
   "cell_type": "code",
   "execution_count": null,
   "metadata": {},
   "outputs": [],
   "source": [
    "font_text(file)"
   ]
  },
  {
   "cell_type": "code",
   "execution_count": null,
   "metadata": {},
   "outputs": [],
   "source": [
    "def font_size(doc):\n",
    "    font_size=set()\n",
    "    for page in doc:\n",
    "        blocks = page.getText(\"dict\")[\"blocks\"]\n",
    "        for b in blocks:\n",
    "            if(\"lines\" in b.keys()):\n",
    "                for i in b[\"lines\"]:\n",
    "                    font_size.add(i[\"spans\"][0][\"size\"])\n",
    "    font_size=list(font_size)\n",
    "    font_size.sort()\n",
    "    return font_size[-1::-1]"
   ]
  },
  {
   "cell_type": "code",
   "execution_count": null,
   "metadata": {},
   "outputs": [],
   "source": [
    "list_size=font_size(file)"
   ]
  },
  {
   "cell_type": "code",
   "execution_count": null,
   "metadata": {},
   "outputs": [],
   "source": [
    "def fonts(doc):\n",
    "    heading=[]\n",
    "    subheading=[]\n",
    "    title=[]\n",
    "    paragraph=[]\n",
    "    for page in doc:\n",
    "        blocks = page.getText(\"dict\")[\"blocks\"]\n",
    "        for b in blocks:\n",
    "            if \"lines\" in b.keys():\n",
    "                for i in b[\"lines\"]:\n",
    "                    if i[\"spans\"][0][\"size\"]==list_size[0]:\n",
    "                        heading.append(i[\"spans\"][0][\"text\"])\n",
    "                    elif i[\"spans\"][0][\"size\"]==list_size[1]:\n",
    "                        subheading.append(i[\"spans\"][0][\"text\"])\n",
    "                    elif i[\"spans\"][0][\"size\"]==list_size[1]:\n",
    "                        title.append(i[\"spans\"][0][\"text\"])\n",
    "                    else:\n",
    "                        paragraph.append(i[\"spans\"][0][\"text\"])\n",
    "    print(\"HEADINGS - \",heading)\n",
    "    print()\n",
    "    print(\"SUBHEADINGS - \",subheading)\n",
    "    print()\n",
    "    print(\"TITLE - \",title)\n",
    "    print()\n",
    "    print(\"PARAGRAPH - \",paragraph)\n",
    "    return title,paragraph"
   ]
  },
  {
   "cell_type": "code",
   "execution_count": null,
   "metadata": {},
   "outputs": [],
   "source": [
    "title,paragraph=fonts(file)"
   ]
  }
 ],
 "metadata": {
  "kernelspec": {
   "display_name": "Python 3",
   "language": "python",
   "name": "python3"
  },
  "language_info": {
   "codemirror_mode": {
    "name": "ipython",
    "version": 3
   },
   "file_extension": ".py",
   "mimetype": "text/x-python",
   "name": "python",
   "nbconvert_exporter": "python",
   "pygments_lexer": "ipython3",
   "version": "3.8.3"
  }
 },
 "nbformat": 4,
 "nbformat_minor": 4
}
