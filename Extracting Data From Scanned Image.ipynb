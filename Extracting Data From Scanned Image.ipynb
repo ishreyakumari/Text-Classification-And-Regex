{
 "cells": [
  {
   "cell_type": "code",
   "execution_count": null,
   "metadata": {},
   "outputs": [],
   "source": [
    "import pytesseract as ps\n",
    "import cv2"
   ]
  },
  {
   "cell_type": "code",
   "execution_count": null,
   "metadata": {},
   "outputs": [],
   "source": [
    "ps.pytesseract.tesseract_cmd = r'path\\tesseract.exe'"
   ]
  },
  {
   "cell_type": "code",
   "execution_count": null,
   "metadata": {},
   "outputs": [],
   "source": [
    "img = cv2.imread('Capture1.png')\n",
    "text=ps.image_to_data(img)"
   ]
  },
  {
   "cell_type": "code",
   "execution_count": null,
   "metadata": {},
   "outputs": [],
   "source": [
    "print(text)"
   ]
  },
  {
   "cell_type": "code",
   "execution_count": null,
   "metadata": {},
   "outputs": [],
   "source": [
    "t = text.split(\"\\t\")"
   ]
  },
  {
   "cell_type": "code",
   "execution_count": null,
   "metadata": {},
   "outputs": [],
   "source": [
    "size = []\n",
    "words = []\n",
    "for i in range(12,len(t)):\n",
    "    if \"\\n\" in t[i]:\n",
    "        size.append(t[i-2])\n",
    "        words.append(t[i])"
   ]
  },
  {
   "cell_type": "code",
   "execution_count": null,
   "metadata": {},
   "outputs": [],
   "source": [
    "word1=[]\n",
    "size1=[]\n",
    "for i in range(len(words)):\n",
    "    if words[i][:-2].isalpha():\n",
    "        word1.append(words[i][:-2])\n",
    "        size1.append(size[i])"
   ]
  },
  {
   "cell_type": "code",
   "execution_count": null,
   "metadata": {},
   "outputs": [],
   "source": [
    "data = ps.image_to_string(img)\n",
    "datas = data.split(\"\\n\")"
   ]
  },
  {
   "cell_type": "code",
   "execution_count": null,
   "metadata": {},
   "outputs": [],
   "source": [
    "word_dict = dict.fromkeys(datas,0)\n",
    "for i in range(len(word1)):\n",
    "    for j in word_dict.keys():\n",
    "        if word[i] in j:\n",
    "            word_dict[j]+=int(size1[i])"
   ]
  },
  {
   "cell_type": "code",
   "execution_count": null,
   "metadata": {},
   "outputs": [],
   "source": [
    "for k,v in word_dict.items():\n",
    "    a = k.split(\" \")\n",
    "    word_dict[k] = v"
   ]
  },
  {
   "cell_type": "code",
   "execution_count": null,
   "metadata": {},
   "outputs": [],
   "source": [
    "heading = []\n",
    "text = []\n",
    "for k,v in word_dict.items():\n",
    "    if v>20 or v==10:\n",
    "        heading.append(k)\n",
    "    else:\n",
    "        text.append(k)"
   ]
  },
  {
   "cell_type": "code",
   "execution_count": null,
   "metadata": {},
   "outputs": [],
   "source": [
    "print(heading)\n",
    "print(text)"
   ]
  }
 ],
 "metadata": {
  "kernelspec": {
   "display_name": "Python 3",
   "language": "python",
   "name": "python3"
  },
  "language_info": {
   "codemirror_mode": {
    "name": "ipython",
    "version": 3
   },
   "file_extension": ".py",
   "mimetype": "text/x-python",
   "name": "python",
   "nbconvert_exporter": "python",
   "pygments_lexer": "ipython3",
   "version": "3.8.3"
  }
 },
 "nbformat": 4,
 "nbformat_minor": 4
}
